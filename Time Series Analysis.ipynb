{
 "cells": [
  {
   "cell_type": "code",
   "execution_count": 9,
   "id": "07ce5b82",
   "metadata": {},
   "outputs": [
    {
     "name": "stdout",
     "output_type": "stream",
     "text": [
      "[(0, 0), (1, 0), (2, 1), (3, 2), (4, 3), (4, 4)]\n",
      "1.4142135623730951\n"
     ]
    }
   ],
   "source": [
    "#DTW dynamic time window\n",
    "\n",
    "from tslearn.metrics import dtw_path\n",
    "\n",
    "# Define two time series\n",
    "x = [1, 2, 3, 4, 5]\n",
    "y = [2, 3, 4, 5, 6]\n",
    "\n",
    "# Calculate the DTW distance\n",
    "cost, path = dtw_path(x, y )\n",
    "\n",
    "print(cost)\n",
    "print(path)\n"
   ]
  },
  {
   "cell_type": "code",
   "execution_count": 4,
   "id": "d8933a07",
   "metadata": {},
   "outputs": [
    {
     "name": "stdout",
     "output_type": "stream",
     "text": [
      "Help on function braycurtis in module scipy.spatial.distance:\n",
      "\n",
      "braycurtis(u, v, w=None)\n",
      "    Compute the Bray-Curtis distance between two 1-D arrays.\n",
      "    \n",
      "    Bray-Curtis distance is defined as\n",
      "    \n",
      "    .. math::\n",
      "    \n",
      "       \\sum{|u_i-v_i|} / \\sum{|u_i+v_i|}\n",
      "    \n",
      "    The Bray-Curtis distance is in the range [0, 1] if all coordinates are\n",
      "    positive, and is undefined if the inputs are of length zero.\n",
      "    \n",
      "    Parameters\n",
      "    ----------\n",
      "    u : (N,) array_like\n",
      "        Input array.\n",
      "    v : (N,) array_like\n",
      "        Input array.\n",
      "    w : (N,) array_like, optional\n",
      "        The weights for each value in `u` and `v`. Default is None,\n",
      "        which gives each value a weight of 1.0\n",
      "    \n",
      "    Returns\n",
      "    -------\n",
      "    braycurtis : double\n",
      "        The Bray-Curtis distance between 1-D arrays `u` and `v`.\n",
      "    \n",
      "    Examples\n",
      "    --------\n",
      "    >>> from scipy.spatial import distance\n",
      "    >>> distance.braycurtis([1, 0, 0], [0, 1, 0])\n",
      "    1.0\n",
      "    >>> distance.braycurtis([1, 1, 0], [0, 1, 0])\n",
      "    0.33333333333333331\n",
      "\n"
     ]
    }
   ],
   "source": [
    "import scipy.spatial.distance as sd\n",
    "help(sd.braycurtis)"
   ]
  }
 ],
 "metadata": {
  "kernelspec": {
   "display_name": "Python 3 (ipykernel)",
   "language": "python",
   "name": "python3"
  },
  "language_info": {
   "codemirror_mode": {
    "name": "ipython",
    "version": 3
   },
   "file_extension": ".py",
   "mimetype": "text/x-python",
   "name": "python",
   "nbconvert_exporter": "python",
   "pygments_lexer": "ipython3",
   "version": "3.7.15"
  }
 },
 "nbformat": 4,
 "nbformat_minor": 5
}
