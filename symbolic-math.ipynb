{
 "cells": [
  {
   "cell_type": "code",
   "execution_count": 1,
   "id": "bc165611",
   "metadata": {
    "scrolled": true
   },
   "outputs": [
    {
     "data": {
      "text/latex": [
       "$\\displaystyle 2 x$"
      ],
      "text/plain": [
       "2*x"
      ]
     },
     "execution_count": 1,
     "metadata": {},
     "output_type": "execute_result"
    }
   ],
   "source": [
    "import numpy as np\n",
    "import sympy as sym\n",
    "from sympy.abc import *\n",
    "\n",
    "# x = sym.Symbol('x')\n",
    "# f = 2*x**4+1\n",
    "# f.integrate(x),f.diff(x)\n",
    "# print(df)\n",
    "# np.differ\n",
    "# help(sym.Sum)\n",
    "# sym.Sum(2*x,(n,0,j))\n",
    "expr = 2/y\n",
    "expr = expr.subs(y,1/x)\n",
    "expr\n",
    "\n",
    "\n"
   ]
  },
  {
   "cell_type": "markdown",
   "id": "07705f70",
   "metadata": {},
   "source": [
    "markdown yoo\n",
    "$$\n",
    "e=2+\\frac{1}{1+\\frac{1}{2+\\frac{1}{1+\\frac{1}{1+\\frac{1}{4+\\frac{1}{1+\\frac{1}{1+\\frac{1}{6+\\cdots}}}}}}}}\n",
    "$$"
   ]
  },
  {
   "cell_type": "code",
   "execution_count": 2,
   "id": "c94907b7",
   "metadata": {},
   "outputs": [
    {
     "data": {
      "text/plain": [
       "{'cat': 6.842697355869361e-44, 'dog': 3.547737081142377e-22}"
      ]
     },
     "execution_count": 2,
     "metadata": {},
     "output_type": "execute_result"
    }
   ],
   "source": [
    "import scipy.stats\n",
    "import numpy as np\n",
    "\n",
    "k = 0.1  # Laplace smoothing parameter\n",
    "\n",
    "# Compute the counts of each word\n",
    "counts = {\"cat\": 10, \"dog\": 5}\n",
    "\n",
    "# Add the Laplace smoothing parameter to the count of each word\n",
    "smoothed_counts = {word: count + k for word, count in counts.items()}\n",
    "\n",
    "# Fit a Laplace distribution to the data\n",
    "laplace_dist = scipy.stats.laplace(scale=k)\n",
    "\n",
    "# Compute the probability of each word\n",
    "probs = {word: laplace_dist.pdf(count) for word, count in smoothed_counts.items()}\n",
    "\n",
    "probs\n"
   ]
  },
  {
   "cell_type": "code",
   "execution_count": 3,
   "id": "a68412a5",
   "metadata": {},
   "outputs": [
    {
     "data": {
      "text/plain": [
       "array([[ 50],\n",
       "       [100],\n",
       "       [150]])"
      ]
     },
     "execution_count": 3,
     "metadata": {},
     "output_type": "execute_result"
    }
   ],
   "source": [
    "#transposing\n",
    "# import numpy as np\n",
    "row_vector = np.array([[10,20,30]])\n",
    "col_vector = row_vector.T\n",
    "col_vector*5"
   ]
  },
  {
   "cell_type": "code",
   "execution_count": null,
   "id": "1b3f787e",
   "metadata": {},
   "outputs": [],
   "source": []
  },
  {
   "cell_type": "code",
   "execution_count": 6,
   "id": "eec8d1c5",
   "metadata": {},
   "outputs": [
    {
     "data": {
      "text/latex": [
       "$\\displaystyle 0$"
      ],
      "text/plain": [
       "0"
      ]
     },
     "execution_count": 6,
     "metadata": {},
     "output_type": "execute_result"
    }
   ],
   "source": [
    "from sympy import cos,sin,lambdify\n",
    "one = cos(1)**2+sin(1)**2\n",
    "one.evalf()-1"
   ]
  },
  {
   "cell_type": "code",
   "execution_count": 5,
   "id": "90806000",
   "metadata": {},
   "outputs": [
    {
     "data": {
      "text/latex": [
       "$\\displaystyle 0.141120008059867$"
      ],
      "text/plain": [
       "0.141120008059867"
      ]
     },
     "execution_count": 5,
     "metadata": {},
     "output_type": "execute_result"
    }
   ],
   "source": [
    "eqq = sin(x)\n",
    "eqq.evalf(subs={x:3})"
   ]
  },
  {
   "cell_type": "code",
   "execution_count": 21,
   "id": "6105bcfe",
   "metadata": {},
   "outputs": [
    {
     "data": {
      "text/plain": [
       "(array([0.84147098, 0.84147098, 0.84147098, 0.84147098, 0.90929743]),\n",
       " array([1, 1, 1, 1, 2]))"
      ]
     },
     "execution_count": 21,
     "metadata": {},
     "output_type": "execute_result"
    }
   ],
   "source": [
    "#evaluating using numpy at a thousand points\n",
    "aM = np.random.randint(3,size=(5))\n",
    "lambdify(x,eqq,'numpy')(aM),aM\n"
   ]
  }
 ],
 "metadata": {
  "kernelspec": {
   "display_name": "Python 3 (ipykernel)",
   "language": "python",
   "name": "python3"
  },
  "language_info": {
   "codemirror_mode": {
    "name": "ipython",
    "version": 3
   },
   "file_extension": ".py",
   "mimetype": "text/x-python",
   "name": "python",
   "nbconvert_exporter": "python",
   "pygments_lexer": "ipython3",
   "version": "3.7.12"
  }
 },
 "nbformat": 4,
 "nbformat_minor": 5
}
