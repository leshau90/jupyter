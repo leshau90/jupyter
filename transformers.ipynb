{
 "cells": [
  {
   "cell_type": "code",
   "execution_count": 1,
   "metadata": {},
   "outputs": [],
   "source": [
    "from transformers import pipeline\n",
    "from transformers import AutoModel,AutoTokenizer"
   ]
  },
  {
   "cell_type": "code",
   "execution_count": 2,
   "metadata": {},
   "outputs": [],
   "source": [
    "# classifier = pipeline(model=\"bert-tiny\",task=\"classification\")\n",
    "# res = classifier (\n",
    "#     \"who am i\",\n",
    "#     candidate_labels=[\"poem\",\"unknown\",\"economy\"]\n",
    "# )\n",
    "# print(res)\n",
    "answerer = pipeline(\"question-answering\",model=\"distilbert-base-cased-distilled-squad\")\n",
    "context = r\"\"\"\n",
    "i am sad because i am broke, \n",
    "i am broke because the economy enters recession era,\n",
    "I should have invested in gold, not some shady cryptocurrency\n",
    "\"\"\"\n",
    "\n",
    "# model = AutoModel.from_pretrained(\"prajjwal1/bert-tiny\")\n",
    "# dir(model)\n",
    "# tokenizer = AutoTokenizer.from_pretrained(\"prejjwall/bert-tiny\")"
   ]
  },
  {
   "cell_type": "code",
   "execution_count": 3,
   "metadata": {},
   "outputs": [
    {
     "name": "stdout",
     "output_type": "stream",
     "text": [
      "{'score': 0.15709851682186127, 'start': 110, 'end': 145, 'answer': 'gold, not some shady cryptocurrency'}\n"
     ]
    }
   ],
   "source": [
    "\n",
    "result = answerer(question=\"what should i avoid, to not become broke?\",context=context)\n",
    "print(result)"
   ]
  }
 ],
 "metadata": {
  "kernelspec": {
   "display_name": "Python 3 (ipykernel)",
   "language": "python",
   "name": "python3"
  },
  "language_info": {
   "codemirror_mode": {
    "name": "ipython",
    "version": 3
   },
   "file_extension": ".py",
   "mimetype": "text/x-python",
   "name": "python",
   "nbconvert_exporter": "python",
   "pygments_lexer": "ipython3",
   "version": "3.7.15"
  }
 },
 "nbformat": 4,
 "nbformat_minor": 2
}
