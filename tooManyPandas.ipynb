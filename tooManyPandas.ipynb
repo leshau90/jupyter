{
 "cells": [
  {
   "cell_type": "code",
   "execution_count": 4,
   "id": "7705bf2b",
   "metadata": {},
   "outputs": [],
   "source": [
    "import numpy as np\n",
    "import pandas as pd\n",
    "from pandas_profiling import ProfileReport\n",
    "\n",
    "df = pd.DataFrame(np.random.rand(100, 5), columns=[\"a\", \"b\", \"c\", \"d\", \"e\"])\n",
    "profile = ProfileReport(df, title=\"Pandas Profiling Report\")"
   ]
  },
  {
   "cell_type": "code",
   "execution_count": 10,
   "id": "573f1947",
   "metadata": {},
   "outputs": [
    {
     "name": "stdout",
     "output_type": "stream",
     "text": [
      "                            OLS Regression Results                            \n",
      "==============================================================================\n",
      "Dep. Variable:            test_scores   R-squared:                       0.469\n",
      "Model:                            OLS   Adj. R-squared:                 -0.417\n",
      "Method:                 Least Squares   F-statistic:                    0.5289\n",
      "Date:                Sat, 07 Jan 2023   Prob (F-statistic):              0.751\n",
      "Time:                        17:35:42   Log-Likelihood:                -29.769\n",
      "No. Observations:                   9   AIC:                             71.54\n",
      "Df Residuals:                       3   BIC:                             72.72\n",
      "Df Model:                           5                                         \n",
      "Covariance Type:            nonrobust                                         \n",
      "=============================================================================================================\n",
      "                                                coef    std err          t      P>|t|      [0.025      0.975]\n",
      "-------------------------------------------------------------------------------------------------------------\n",
      "Intercept                                    97.3333     17.490      5.565      0.011      41.672     152.995\n",
      "course_material[T.online]                   -41.6190     33.893     -1.228      0.307    -149.481      66.243\n",
      "course_material[T.textbooks]                -14.0833     24.845     -0.567      0.610     -93.151      64.985\n",
      "study_habits                                 -6.5000      8.096     -0.803      0.481     -32.266      19.266\n",
      "study_habits:course_material[T.online]       11.4286      9.677      1.181      0.323     -19.368      42.225\n",
      "study_habits:course_material[T.textbooks]     4.8750      8.823      0.553      0.619     -23.203      32.953\n",
      "==============================================================================\n",
      "Omnibus:                        2.496   Durbin-Watson:                   2.836\n",
      "Prob(Omnibus):                  0.287   Jarque-Bera (JB):                0.750\n",
      "Skew:                          -0.706   Prob(JB):                        0.687\n",
      "Kurtosis:                       3.076   Cond. No.                         57.1\n",
      "==============================================================================\n",
      "\n",
      "Notes:\n",
      "[1] Standard Errors assume that the covariance matrix of the errors is correctly specified.\n"
     ]
    },
    {
     "name": "stderr",
     "output_type": "stream",
     "text": [
      "/home/ilmanz/anaconda3/envs/data-lab/lib/python3.7/site-packages/scipy/stats/stats.py:1542: UserWarning: kurtosistest only valid for n>=20 ... continuing anyway, n=9\n",
      "  \"anyway, n=%i\" % int(n))\n"
     ]
    }
   ],
   "source": [
    "# profile.to_notebook_iframe()\n",
    "import statsmodels.api as sm\n",
    "\n",
    "# Create a dataframe with the relevant variables\n",
    "df = pd.DataFrame({'study_habits': [2, 2, 3, 4, 5, 6,7,1,6],\n",
    "                   'test_scores': [80, 90, 75, 85,66, 70, 95,88,77],\n",
    "                   'course_material': ['textbooks', 'lectures', \n",
    "                                       'lectures', 'online', \n",
    "                                       'online', 'textbooks',\n",
    "                                       'online','lectures',\n",
    "                                      'textbooks']})\n",
    "\n",
    "# Use the 'course_material' variable as a moderating variable\n",
    "model = sm.OLS.from_formula('test_scores ~ study_habits * course_material', data=df)\n",
    "\n",
    "# Fit the model and print the summary\n",
    "results = model.fit()\n",
    "print(results.summary())\n"
   ]
  },
  {
   "cell_type": "code",
   "execution_count": null,
   "id": "04c533bb",
   "metadata": {},
   "outputs": [],
   "source": []
  },
  {
   "cell_type": "code",
   "execution_count": null,
   "id": "84607309",
   "metadata": {},
   "outputs": [],
   "source": []
  }
 ],
 "metadata": {
  "kernelspec": {
   "display_name": "Python 3 (ipykernel)",
   "language": "python",
   "name": "python3"
  },
  "language_info": {
   "codemirror_mode": {
    "name": "ipython",
    "version": 3
   },
   "file_extension": ".py",
   "mimetype": "text/x-python",
   "name": "python",
   "nbconvert_exporter": "python",
   "pygments_lexer": "ipython3",
   "version": "3.7.12"
  }
 },
 "nbformat": 4,
 "nbformat_minor": 5
}
