{
 "cells": [
  {
   "cell_type": "code",
   "execution_count": 5,
   "id": "e60e4957",
   "metadata": {},
   "outputs": [
    {
     "data": {
      "text/plain": [
       "array([[ 1,  2,  3,  4],\n",
       "       [ 6,  8, 10, 12]])"
      ]
     },
     "execution_count": 5,
     "metadata": {},
     "output_type": "execute_result"
    }
   ],
   "source": [
    "import numpy as np\n",
    "import scipy.stats as stats\n",
    "\n",
    "a = np.random.rand(3, 3)\n",
    "q, r = np.linalg.qr(a)\n",
    "\n",
    "\n",
    "tt= np.array([[1,2,3,4],[5,6,7,8]])\n",
    "np.cumsum(tt,axis=0)\n"
   ]
  },
  {
   "cell_type": "markdown",
   "id": "27f17f18",
   "metadata": {},
   "source": [
    "    let's create a random symmetrical matrix"
   ]
  },
  {
   "cell_type": "code",
   "execution_count": 2,
   "id": "72e401c3",
   "metadata": {},
   "outputs": [
    {
     "data": {
      "text/plain": [
       "(array([[2, 0, 2, 0],\n",
       "        [1, 0, 1, 0],\n",
       "        [2, 3, 3, 4],\n",
       "        [0, 3, 0, 2]]),\n",
       " array([[2. , 0.5, 2. , 0. ],\n",
       "        [0.5, 0. , 2. , 1.5],\n",
       "        [2. , 2. , 3. , 2. ],\n",
       "        [0. , 1.5, 2. , 2. ]]))"
      ]
     },
     "execution_count": 2,
     "metadata": {},
     "output_type": "execute_result"
    }
   ],
   "source": [
    "A = np.random.randint(0,high=5,size=(4,4))\n",
    "A_symm = (A+A.T)/2\n",
    "A, A_symm"
   ]
  },
  {
   "cell_type": "markdown",
   "id": "813c19f8",
   "metadata": {},
   "source": [
    "Matrix calculus input, output, first and second derivative\n",
    "$$\n",
    "\\begin{align}\n",
    " f:\\mathbb{R} \\to \\mathbb{R}\\ & with\\  f'= \\mathbb{R}\\ and\\  f''= \\mathbb{R} \\\\\n",
    " f:\\mathbb{R}^d \\to \\mathbb{R}\\ & with\\  f'= \\mathbb{R}^{d}\\ [gradient] \\ and\\  f''= \\mathbb{R}^{d\\times d}\\ [hessian]\\ or\\ \\mathbb{S}^d \\\\\n",
    " f:\\mathbb{R}^d \\to \\mathbb{R}^p\\ & with\\  f'= \\mathbb{R}^{d\\times p}\\ [jacobian] \\ and\\  f''= \\mathbb{R}^{d\\times p\\times p}\\ [higher\\ order\\ tensor] \\\\\n",
    "\\end{align}\n",
    "$$"
   ]
  },
  {
   "cell_type": "markdown",
   "id": "ac66a590",
   "metadata": {},
   "source": [
    "thus the gradient of function f that is x being an input vector  with dimension d is \n",
    "$$\n",
    "\\nabla_x\\ f(x) =\n",
    "\\begin{bmatrix}\n",
    "\\frac{\\partial f}{\\partial x_1}(x) \\\\\n",
    "\\vdots \\\\\n",
    "\\frac{\\partial f}{\\partial x_d}(x)\n",
    "\\end{bmatrix}\n",
    "$$"
   ]
  },
  {
   "cell_type": "markdown",
   "id": "ed9b9dcf",
   "metadata": {},
   "source": [
    "## Elements of Probability (statistics)\n",
    "Probability is the study of uncertainty\n",
    "\n",
    "### survey problem\n",
    "#### non response bias\n",
    "the sampled people may be very different from the non sampled.\n",
    "#### under-representation\n",
    "the sampled people may not represent the whole composition of a population\n",
    "\n",
    "### stratified sampling\n",
    "\n",
    "Stratified =  taken from groups\n",
    "\n",
    "means taking sample  that represent the entire population in a certain defined characteristics, or dividing entire population into distinct subgroups called strata, in hope of minimalizing non-sampling error (using abad list of a sample to repesent entire population).\n",
    "\n",
    "### limitations of stratified sampling\n",
    "oversampling one group means your summary statistics is unbalanced\n",
    "and list of entire population must be known before head, any hidden information on characteristics or a feature of the population can adds to complexities of sampling, in a way that it may prompt an error in the grouping phase\n",
    "\n",
    "### systematic sampling \n",
    "sampling without list, or the population members list is not known beforehead,\n",
    "- arrange all individual of population in particular\n",
    "- pick a random indiviudal as start\n",
    "- then take $k^{th}$, or every k  \n",
    "\n",
    "#### snowball sampling\n",
    "asking the sample, or make the sample to reach another sample to be surveyed \n",
    "\n",
    "### errors in statistics\n",
    "sampling error, entails that the population mean will probably be different than sample mean, which entails a result in sample statistics have a probability to be different than the population statistics such as in term of its mean and precentage \n",
    "\n",
    "#### Sample Space \n",
    "$\\Omega$,  (it is a set of possible random outcomes that can happen), e,g the sample space of the experiment of the toss of two coins is, T is tail and H is head\n",
    "$$\n",
    " \\{HH,HT,TH,TT\\}\n",
    "$$\n",
    "and the thing that we attach a probability into is called an event,\n",
    "\n",
    "$\\mathit{A} \\subseteq \\Omega $ \n",
    "means an event A is a subset of the sample space (probability value is assigned to an event, not the outcome, and an event can)\n",
    "\n",
    "### a study in statistics is either observational or experimental\n",
    "- in experimental study we experiment with test subject,in order to study the effect, thus measuring the variable\n",
    "- in observational study no interaction is done to the test subject, we simply observe no intervention\n",
    "\n",
    "## interviewers and the interview\n",
    "- a good decision on how interview matter, vague wording, who does the interview \n",
    "- lurking variables, there might be some obvious variables that is lurking or unaccounted yet it is obvious, such as higher degree may contribute to higher income, the lurking variables might be gender that is taking survet without accounting the gender, because gender also contribute te total income a person make\n",
    "\n",
    "### all this in hope of, Reducing the bias\n",
    "-randomization,\n",
    "-blinding, should be double blind if possible, where participant or sample and the researcher (or the people helping dointg the research) doesn't know if they ar being experimented or tested on\n",
    "\n",
    "#### avrage notation (convention)\n",
    "$\\bar{x}$ = samples average \\\n",
    "$n$ = samples amount \\\n",
    "$\\mu$ = population average \\\n",
    "$N$ = population members amount \\\n",
    "the mean of the sample is \n",
    "$$\n",
    "\\bar{x} = \\frac{\\sum_{i=1}^{n}x_i}{n}\n",
    "$$\n",
    "\n",
    "### simple measure of central tendency\n",
    "use median, mode, average\n",
    "\n",
    "### standard deviation and variance measurement\n",
    "variance\n",
    "$$\n",
    "    s^2=\\frac{\\sum_{i=1}^{n}(x_i-\\bar{x})}{n-1}\n",
    "$$\n",
    "standard deviation \n",
    "\n",
    "$$\n",
    "    \\sqrt{s^2}\n",
    "$$ OR \n",
    "$$\\sigma = s$$\n",
    "\n",
    "correlation(r) between x and y\n",
    "\n",
    "$$\n",
    "r =\\frac{x\\sum xy-(\\sum x)(\\sum y)}{\\sqrt{n\\sum x^2}-(\\sum x)^2 \\sqrt{n\\sum y^2}-(\\sum y)^2} \n",
    "$$"
   ]
  },
  {
   "cell_type": "code",
   "execution_count": 3,
   "id": "b3f91996",
   "metadata": {},
   "outputs": [],
   "source": [
    "# Statistics"
   ]
  },
  {
   "cell_type": "code",
   "execution_count": 4,
   "id": "c8638f63",
   "metadata": {},
   "outputs": [
    {
     "data": {
      "text/plain": [
       "1.0203716088439019"
      ]
     },
     "execution_count": 4,
     "metadata": {},
     "output_type": "execute_result"
    },
    {
     "data": {
      "image/png": "[encoded data removed]",
      "text/plain": [
       "<Figure size 432x288 with 1 Axes>"
      ]
     },
     "metadata": {
      "needs_background": "light"
     },
     "output_type": "display_data"
    }
   ],
   "source": [
    "#generate data with certain standard deviation score\n",
    "from numpy.random import  default_rng\n",
    "import numpy as np\n",
    "import matplotlib.pyplot as plt\n",
    "rng = default_rng()\n",
    "\n",
    "# X = rng.standard_normal(150)\n",
    "# X_sort = np.hstack(X)\n",
    "# plt.plot(X_sort)\n",
    "size=1000\n",
    "X = np.random.normal(size=1500,loc=50,scale=1)\n",
    "plt.hist(X,bins=20)\n",
    "X.std()\n"
   ]
  },
  {
   "cell_type": "code",
   "execution_count": 5,
   "id": "49eeca46",
   "metadata": {},
   "outputs": [
    {
     "data": {
      "text/plain": [
       "('zscores of 5 firsts',\n",
       " (array([ 1.80465192,  0.33057396,  0.58569182, -0.34928609, -0.09750882]),\n",
       "  array([51.82505352, 50.32094622, 50.58126124, 49.62723633, 49.88414271])))"
      ]
     },
     "execution_count": 5,
     "metadata": {},
     "output_type": "execute_result"
    }
   ],
   "source": [
    "'zscores of 5 firsts',(stats.zscore(X)[:5],X[:5])"
   ]
  },
  {
   "cell_type": "markdown",
   "id": "534ca68f",
   "metadata": {},
   "source": [
    "cronbach alpha using pingouin"
   ]
  },
  {
   "cell_type": "code",
   "execution_count": 6,
   "id": "87a26f67",
   "metadata": {
    "scrolled": true
   },
   "outputs": [
    {
     "name": "stdout",
     "output_type": "stream",
     "text": [
      "(0.8204575126298461, array([0.474, 0.951]))\n"
     ]
    },
    {
     "data": {
      "text/html": [
       "<div>\n",
       "<style scoped>\n",
       "    .dataframe tbody tr th:only-of-type {\n",
       "        vertical-align: middle;\n",
       "    }\n",
       "\n",
       "    .dataframe tbody tr th {\n",
       "        vertical-align: top;\n",
       "    }\n",
       "\n",
       "    .dataframe thead th {\n",
       "        text-align: right;\n",
       "    }\n",
       "</style>\n",
       "<table border=\"1\" class=\"dataframe\">\n",
       "  <thead>\n",
       "    <tr style=\"text-align: right;\">\n",
       "      <th></th>\n",
       "      <th>Score1</th>\n",
       "      <th>Score2</th>\n",
       "      <th>Score3</th>\n",
       "    </tr>\n",
       "  </thead>\n",
       "  <tbody>\n",
       "    <tr>\n",
       "      <th>0</th>\n",
       "      <td>4</td>\n",
       "      <td>5</td>\n",
       "      <td>6</td>\n",
       "    </tr>\n",
       "    <tr>\n",
       "      <th>1</th>\n",
       "      <td>14</td>\n",
       "      <td>14</td>\n",
       "      <td>7</td>\n",
       "    </tr>\n",
       "    <tr>\n",
       "      <th>2</th>\n",
       "      <td>3</td>\n",
       "      <td>4</td>\n",
       "      <td>4</td>\n",
       "    </tr>\n",
       "    <tr>\n",
       "      <th>3</th>\n",
       "      <td>3</td>\n",
       "      <td>3</td>\n",
       "      <td>3</td>\n",
       "    </tr>\n",
       "    <tr>\n",
       "      <th>4</th>\n",
       "      <td>23</td>\n",
       "      <td>24</td>\n",
       "      <td>2</td>\n",
       "    </tr>\n",
       "    <tr>\n",
       "      <th>5</th>\n",
       "      <td>4</td>\n",
       "      <td>5</td>\n",
       "      <td>35</td>\n",
       "    </tr>\n",
       "    <tr>\n",
       "      <th>6</th>\n",
       "      <td>52</td>\n",
       "      <td>55</td>\n",
       "      <td>32</td>\n",
       "    </tr>\n",
       "    <tr>\n",
       "      <th>7</th>\n",
       "      <td>3</td>\n",
       "      <td>4</td>\n",
       "      <td>4</td>\n",
       "    </tr>\n",
       "    <tr>\n",
       "      <th>8</th>\n",
       "      <td>33</td>\n",
       "      <td>15</td>\n",
       "      <td>1</td>\n",
       "    </tr>\n",
       "    <tr>\n",
       "      <th>9</th>\n",
       "      <td>3</td>\n",
       "      <td>3</td>\n",
       "      <td>4</td>\n",
       "    </tr>\n",
       "  </tbody>\n",
       "</table>\n",
       "</div>"
      ],
      "text/plain": [
       "   Score1  Score2  Score3\n",
       "0       4       5       6\n",
       "1      14      14       7\n",
       "2       3       4       4\n",
       "3       3       3       3\n",
       "4      23      24       2\n",
       "5       4       5      35\n",
       "6      52      55      32\n",
       "7       3       4       4\n",
       "8      33      15       1\n",
       "9       3       3       4"
      ]
     },
     "execution_count": 6,
     "metadata": {},
     "output_type": "execute_result"
    }
   ],
   "source": [
    "from pingouin import cronbach_alpha\n",
    "import pandas as pd\n",
    "ca_test = pd.DataFrame({'Score1': [ 4,14,3,3,23,4,52,3,33,3], 'Score2': [ 5,14,4,3,24,5,55,4,15,3],\n",
    "                       'Score3': [ 6,7,4,3,2,35,32,4,1,4]})\n",
    "\n",
    "# alpha = cronbach_alpha(data=ca_test[['Score1','Score2']])\n",
    "alpha_all = cronbach_alpha(data=ca_test)\n",
    "\n",
    "\n",
    "print(alpha_all)\n",
    "ca_test\n",
    "\n",
    "\n"
   ]
  },
  {
   "cell_type": "code",
   "execution_count": 7,
   "id": "08674944",
   "metadata": {},
   "outputs": [
    {
     "name": "stdout",
     "output_type": "stream",
     "text": [
      "0.9657276602858813 0.634013605442177 0.4948515595640737\n"
     ]
    }
   ],
   "source": [
    "#using numpy for cronbach alpha\n",
    "\n",
    "itemscores = [[ 4,14,3,3,23,4,52,3,33,3],\n",
    "              [ 5,14,4,3,24,5,55,4,15,3],\n",
    "             [ 6,7,4,3,2,35,32,4,1,4]]\n",
    "\n",
    "def calpha(itemscores):\n",
    "    itemscores = np.asarray(itemscores)\n",
    "    itemvars = itemscores.var(axis=1, ddof=1)\n",
    "    tscores = itemscores.sum(axis=0)\n",
    "    nitems = len(itemscores)\n",
    "\n",
    "    return nitems / (nitems-1.) * (1 - itemvars.sum() / tscores.var(ddof=1))\n",
    "\n",
    "\n",
    "\n",
    "print(calpha(itemscores[0:2]),calpha(itemscores[1:3]),calpha(itemscores[::len(itemscores)-1]))"
   ]
  },
  {
   "cell_type": "markdown",
   "id": "2a09c3cd",
   "metadata": {},
   "source": [
    "b is\n",
    "$$\n",
    "\\frac{n\\sum xy-(\\sum x)(\\sum y)}{n\\sum x^2-(\\sum x)^2}\n",
    "$$\n",
    "then a is equal\n",
    "$ a = \\bar{y} - b\\bar{x}$"
   ]
  },
  {
   "cell_type": "code",
   "execution_count": 8,
   "id": "8d24d74a",
   "metadata": {
    "scrolled": true
   },
   "outputs": [
    {
     "name": "stdout",
     "output_type": "stream",
     "text": [
      "sum x 29 sum_y 28\n",
      "sumxy 130 sumx^2 175\n",
      "n x sum_XY 780 n*sum of X^2 1050\n",
      "nominator -32 denominator 209\n",
      "b -0.15311004784688995    avg y 4.666666666666667    avg x 4.833333333333333\n",
      "a is  5.4066985645933014 b is -0.15311004784688995\n",
      "35.3125\n",
      "if x is 5 then y is 4.641148325358852\n"
     ]
    }
   ],
   "source": [
    "# this cell dedicated for regression\n",
    "from IPython.display import display, Markdown, Latex\n",
    "# display(Markdown(\"\\frac{\\sum xy}{\\sum x^2}\"))\n",
    "# If you particularly want to display maths, this is more direct:\n",
    "# display(Latex('\\phi'))\n",
    "\n",
    "X = np.array([1,3,4,6,7,8])\n",
    "Y = np.array([5,3,6,8,4,2])\n",
    "sum_x = np.sum(X)\n",
    "sum_y = np.sum(Y)\n",
    "n_sum_xy=len(X)*np.sum(X*Y)\n",
    "n_sum_x2=len(X)*np.sum(X**2)\n",
    "\n",
    "print('sum x',sum_x,'sum_y',sum_y)\n",
    "print('sumxy',np.sum(X*Y),'sumx^2',np.sum(X**2))\n",
    "print('n x sum_XY',n_sum_xy,'n*sum of X^2',n_sum_x2)\n",
    "\n",
    "nom = (n_sum_xy) -(sum_x*sum_y)\n",
    "denom = (n_sum_x2) - (sum_x**2)\n",
    "\n",
    "print('nominator',nom,'denominator',denom)\n",
    "b = nom/denom\n",
    "avg_y=np.average(Y)\n",
    "avg_x=np.average(X)\n",
    "\n",
    "print('b',b,'   avg y',np.average(Y),'   avg x',np.average(X))\n",
    "a = (np.average(Y))-(b*np.average(X))\n",
    "\n",
    "print ('a is ',a,'b is',b)\n",
    "print(a/(-b))\n",
    "print('if x is 5 then y is',a+b*5)\n"
   ]
  },
  {
   "cell_type": "code",
   "execution_count": 9,
   "id": "bfbdfe8f",
   "metadata": {},
   "outputs": [],
   "source": [
    "from scipy.stats import poisson"
   ]
  },
  {
   "cell_type": "markdown",
   "id": "e31c2c1d",
   "metadata": {},
   "source": [
    "posssion can give us the probability of some event occuring n times in given time of interval\n",
    "poisson needs an average value $\\lambda$, this average value induces the probabiliy probability (as parameter), later given by poisson distribution calculation\n",
    "\n",
    "$$\n",
    "P(X)=\\frac {(\\lambda^x \\times e^{-\\lambda} )}{x!}\n",
    "$$\n",
    "\n",
    "here is the example of probability of observing n amount of event using possion function that is induced by $\\lambda$ "
   ]
  },
  {
   "cell_type": "code",
   "execution_count": 10,
   "id": "a8b90f94",
   "metadata": {},
   "outputs": [
    {
     "data": {
      "text/plain": [
       "array([['1', '0.00000000000000000001'],\n",
       "       ['6', '0.00000000000000418566'],\n",
       "       ['11', '0.00000000002359338391'],\n",
       "       ['16', '0.00000001406618679533'],\n",
       "       ['21', '0.00000180012259961236'],\n",
       "       ['26', '0.00007126511507789351'],\n",
       "       ['31', '0.00109225557604873441'],\n",
       "       ['36', '0.00754502897309982344'],\n",
       "       ['41', '0.02621906243515616589'],\n",
       "       ['46', '0.04981113199369614775'],\n",
       "       ['51', '0.05522059443645966487'],\n",
       "       ['56', '0.03764674302242530801'],\n",
       "       ['61', '0.01647940339809488355'],\n",
       "       ['66', '0.00480199829470172052'],\n",
       "       ['71', '0.00096046784139986103'],\n",
       "       ['76', '0.00013538511494436711'],\n",
       "       ['81', '0.00001376047782116896'],\n",
       "       ['86', '0.00000102895155676583'],\n",
       "       ['91', '0.00000005761945114475'],\n",
       "       ['96', '0.00000000245485401662']], dtype='<U22')"
      ]
     },
     "execution_count": 10,
     "metadata": {},
     "output_type": "execute_result"
    }
   ],
   "source": [
    "#poisson with lambda value of 80, or parameter of 80, or mean value of 80\n",
    "poi = poisson(50)\n",
    "x = np.arange(start=1,stop=100,step=5)\n",
    "def formatPoi(x):\n",
    "    return format(poi.pmf(x),',.20f') \n",
    "vPoi = np.vectorize(formatPoi)\n",
    "xPoi = vPoi(x)\n",
    "np.stack((x,xPoi),axis=-1)\n",
    "#format(poi.pmf(100),',.20f')\n"
   ]
  },
  {
   "cell_type": "code",
   "execution_count": 25,
   "id": "f758ad6c",
   "metadata": {
    "scrolled": true
   },
   "outputs": [
    {
     "data": {
      "text/plain": [
       "[<matplotlib.lines.Line2D at 0x7f6da38f7d10>]"
      ]
     },
     "execution_count": 25,
     "metadata": {},
     "output_type": "execute_result"
    },
    {
     "data": {
      "image/png": "[encoded data removed]",
      "text/plain": [
       "<Figure size 432x288 with 1 Axes>"
      ]
     },
     "metadata": {
      "needs_background": "light"
     },
     "output_type": "display_data"
    }
   ],
   "source": [
    "a = np.arange(start=.001,stop=2,step=.025)\n",
    "plt.plot(a,np.exp(a))\n",
    "plt.plot(a,np.exp2(a))\n",
    "plt.plot(a,np.log(a),color='red')\n",
    "plt.plot(a,np.log10(a),color='magenta')"
   ]
  }
 ],
 "metadata": {
  "kernelspec": {
   "display_name": "Python 3 (ipykernel)",
   "language": "python",
   "name": "python3"
  },
  "language_info": {
   "codemirror_mode": {
    "name": "ipython",
    "version": 3
   },
   "file_extension": ".py",
   "mimetype": "text/x-python",
   "name": "python",
   "nbconvert_exporter": "python",
   "pygments_lexer": "ipython3",
   "version": "3.7.15"
  }
 },
 "nbformat": 4,
 "nbformat_minor": 5
}
