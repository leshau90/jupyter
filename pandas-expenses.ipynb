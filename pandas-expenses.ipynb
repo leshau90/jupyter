{
 "cells": [
  {
   "cell_type": "code",
   "execution_count": 1,
   "id": "05ca63e0",
   "metadata": {},
   "outputs": [],
   "source": [
    "import pandas as pd\n",
    "from pandas_profiling import ProfileReport\n",
    "import numpy as np\n",
    "import seaborn as sns\n",
    "\n",
    "expenses = pd.read_csv(\"~/expense/exp\")\n",
    "# conditions = [\n",
    "#     (expenses['reminder'].str.find(\"precalculate\") != -1)\n",
    "   \n",
    "#     ]\n",
    "# values=[(expenses.loc[expenses.index]['reminder'].str.split('-')[1])]\n",
    "# # expenses[\"cat1\"]=np.select(conditions,values)\n",
    "# expenses[\"cat1\"]=np.where(expenses['reminder'].str.find('precalculate')!=-1,expenses['reminder'].str.)\n",
    "\n",
    "def defCat(x):\n",
    "    y=x.split('-')\n",
    "    firstCat=y[0]\n",
    "    if firstCat=='precalculate':\n",
    "        return y[1]\n",
    "    else :\n",
    "        return y[0]\n",
    "\n",
    "def defCat2(x):\n",
    "    y=x.split('-')\n",
    "    firstCat=y[0]\n",
    "    if firstCat=='precalculate':\n",
    "        try:\n",
    "            return y[2]\n",
    "        except IndexError:\n",
    "            return y[1]\n",
    "    else :\n",
    "        try:\n",
    "            return y[1]\n",
    "        except IndexError:\n",
    "            return y[0]\n",
    "\n",
    "     \n",
    "\n",
    "# expenses['cat1']=expenses['reminder'].apply(defCat)\n",
    "# expenses['cat2']=expenses['reminder'].apply(defCat2)\n",
    "#vectorize\n",
    "# df['new'] = df['c'] * df['d'] #default case e = =10\n",
    "# mask = df['e'] < 10\n",
    "# df.loc[mask,'new'] = df['c'] + df['d']\n",
    "# mask = df['e'] < 5\n",
    "# df.loc[mask,'new'] = df['a'] + df['b']\n",
    "\n",
    "# expenses\n",
    "minum = ['galon','air','aqua']\n",
    "bvg = ['bvg','frestea','cola','kopi','teh','tea']\n",
    "makan = ['makan','lauk','jambu','kelapa','kerupuk','egg','buah','telur','quaker']\n",
    "ff = ['juice','jus','energen','ff','pia','kue','roti','gorengan','molen','ketchup','soy','kecap','bread']\n",
    "transaction = ['topup','transfer','fees','feesible']\n",
    "utility = ['bottle','kos','netflix','internet','giganet','zoom','cukur','kuota','gelas','battery','baterai']\n",
    "transport = ['mrt','busway','angkot','kereta','damri','krl']\n",
    "health=['listerine','kalpanax','rinso','sabun','masker','odol']\n",
    "\n",
    "def check2(x,y):\n",
    "    if any(xx in x for xx in y):\n",
    "        return True\n",
    "    else :\n",
    "        return False\n",
    "\n",
    "def splitter(x):\n",
    "    x = expenses.loc[x]['reminder'].split('-')\n",
    "    \n",
    "#     print(x)\n",
    "    if check2(x,minum) :\n",
    "        return \"minum\"\n",
    "    elif check2(x, bvg ):\n",
    "        return \"bvg\"\n",
    "    elif check2(x, makan):\n",
    "        return \"makan\"\n",
    "    elif check2(x, ff):\n",
    "        return \"ff\"\n",
    "    elif check2(x,transaction):\n",
    "        return \"fees\"\n",
    "    elif check2(x,utility):\n",
    "        return \"utility\"\n",
    "    elif check2(x,transport):\n",
    "        return \"transport\"\n",
    "    elif check2(x,health):\n",
    "        return \"health\"\n",
    "    else :\n",
    "        return \"unknown\"\n",
    "\n",
    "grouped = expenses.groupby(splitter)\n",
    "\n",
    "# grouped.describe()\n",
    "# for m, n in grouped:\n",
    "#    print (m)\n",
    "#    print (n)\n",
    "\n",
    "# expenses.describe()\n"
   ]
  },
  {
   "cell_type": "code",
   "execution_count": 2,
   "id": "309651cc",
   "metadata": {},
   "outputs": [
    {
     "data": {
      "text/plain": [
       "<AxesSubplot:title={'center':'expenses'}>"
      ]
     },
     "execution_count": 2,
     "metadata": {},
     "output_type": "execute_result"
    },
    {
     "data": {
      "image/png": "[encoded data removed]",
      "text/plain": [
       "<Figure size 1080x576 with 1 Axes>"
      ]
     },
     "metadata": {
      "needs_background": "light"
     },
     "output_type": "display_data"
    }
   ],
   "source": [
    "gg=grouped.sum()\n",
    "gg.plot(kind=\"bar\",title=\"expenses\",figsize=(15,8))"
   ]
  },
  {
   "cell_type": "code",
   "execution_count": 3,
   "id": "08fd21b7",
   "metadata": {},
   "outputs": [
    {
     "data": {
      "text/plain": [
       "<AxesSubplot:title={'center':'expenses without utility'}>"
      ]
     },
     "execution_count": 3,
     "metadata": {},
     "output_type": "execute_result"
    },
    {
     "data": {
      "image/png": "[encoded data removed]",
      "text/plain": [
       "<Figure size 1080x576 with 1 Axes>"
      ]
     },
     "metadata": {
      "needs_background": "light"
     },
     "output_type": "display_data"
    }
   ],
   "source": [
    "gg.drop(index='utility').plot(kind=\"bar\",title=\"expenses without utility\",figsize=(15,8))\n"
   ]
  },
  {
   "cell_type": "code",
   "execution_count": 4,
   "id": "ebef3e56",
   "metadata": {},
   "outputs": [
    {
     "data": {
      "application/vnd.jupyter.widget-view+json": {
       "model_id": "2ced051bd30e4d14a0655cb7532c86a0",
       "version_major": 2,
       "version_minor": 0
      },
      "text/plain": [
       "Summarize dataset:   0%|          | 0/5 [00:00<?, ?it/s]"
      ]
     },
     "metadata": {},
     "output_type": "display_data"
    },
    {
     "data": {
      "application/vnd.jupyter.widget-view+json": {
       "model_id": "3d4ad0dbdba146e29c4344cbef6e683a",
       "version_major": 2,
       "version_minor": 0
      },
      "text/plain": [
       "Generate report structure:   0%|          | 0/1 [00:00<?, ?it/s]"
      ]
     },
     "metadata": {},
     "output_type": "display_data"
    },
    {
     "data": {
      "application/vnd.jupyter.widget-view+json": {
       "model_id": "",
       "version_major": 2,
       "version_minor": 0
      },
      "text/plain": [
       "Render widgets:   0%|          | 0/1 [00:00<?, ?it/s]"
      ]
     },
     "metadata": {},
     "output_type": "display_data"
    },
    {
     "data": {
      "application/vnd.jupyter.widget-view+json": {
       "model_id": "8af3724216cf4c8780525eb10a4fa9f9",
       "version_major": 2,
       "version_minor": 0
      },
      "text/plain": [
       "VBox(children=(Tab(children=(Tab(children=(GridBox(children=(VBox(children=(GridspecLayout(children=(HTML(valu…"
      ]
     },
     "metadata": {},
     "output_type": "display_data"
    }
   ],
   "source": [
    "profile = ProfileReport(expenses, title=\"Expenses\")\n",
    "profile.to_widgets()"
   ]
  }
 ],
 "metadata": {
  "kernelspec": {
   "display_name": "Python 3 (ipykernel)",
   "language": "python",
   "name": "python3"
  },
  "language_info": {
   "codemirror_mode": {
    "name": "ipython",
    "version": 3
   },
   "file_extension": ".py",
   "mimetype": "text/x-python",
   "name": "python",
   "nbconvert_exporter": "python",
   "pygments_lexer": "ipython3",
   "version": "3.7.12"
  }
 },
 "nbformat": 4,
 "nbformat_minor": 5
}
